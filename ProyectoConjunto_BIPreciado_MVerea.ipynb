{
 "cells": [
  {
   "cell_type": "markdown",
   "metadata": {},
   "source": [
    "<img style=\"float: right; margin: 0px 0px 15px 15px;\" src=\"https://ceppe.org.mx/wp-content/uploads/2015/11/Logo_Horizontal_ITESO.jpg\" width=\"400px\" height=\"200px\" />\n",
    "            \n",
    "          \n",
    "# Tarea 1\n",
    "\n",
    "**Estudiante 1:** Berlin Isabel Preciado Escalera-723259\n",
    "\n",
    "**Estudiante 2:** Mateo Venea\n",
    "\n",
    "**Profesor:** Oscar David Jaramillo Zuluaga\n",
    "\n",
    "**Fecha:** 31 de agosto 2021\n",
    "\n"
   ]
  },
  {
   "cell_type": "markdown",
   "metadata": {},
   "source": [
    "## INSTRUCCIONES"
   ]
  },
  {
   "cell_type": "markdown",
   "metadata": {},
   "source": [
    "\n",
    "\n",
    "Este archivo contiene las pautas necesarias para crear el archivo conjunto en Github, usando los notebooks de Jupyter:\n",
    "\n",
    "1.  El archivo debe realizarse en parejas y sólo uno de los dos debe crear en su cuenta de *Github* un repositorio con el nombre **ProyectoConjunto\\_APELLIDO1\\_APELLIDO2**. A la persona que creó el repositorio la llamaremos (ESTUDIANTE 1 ). El APELLIDO se debe de escribir (Iniciales del nombre y primer apellido), por ejemplo si yo creara el archivo lo debería de nombrar *ProyectoConjunto\\_ODJaramillo*. \n",
    "1.  Posteriormente, desde la cuenta del (ESTUDIANTE 2), 'aquel que no creó el repositorio anterior', ingresar al perfil del ESTUDIANTE 1 y en el repositorio creado en el paso 1, realizar un \"fork\" de este repositorio en su perfil, y además realizar los pasos en Gitkraken para hacer dicho repositorio \"Remoto (REMOTE)\" VER DICHO PROCEDIMIENTO EN LA CLASE **Clase2_GitTurorial2**.\n",
    "1.  Luego de realizados los pasos 1 y 2, el ESTUDIANTE 1 y ESTUDIANTE 2, desde su computador realizar un *clone* del repositorio creado en el numeral 1 en la carpeta que cada quién haya asignado para el curso en su computador. \n",
    "1.  Luego desde Jupyter el ESTUDIANTE 1, crea un nuevo ``notebook`` en el repositorio del paso 3. \n",
    "1.  En este nuevo notebook el ESTUDIANTE 1 y ESTUDIANTE 2, deben realizar una presentación describiendo sus expectativas del curso y la transcipción de la Figura 1 y Figura 2 respectivamente, haciendo uso de la sintaxis Markdown. Recuerden definir unas celdas donde cada usuario modificará el cuaderno de python para evitar futuros conflictos. \n",
    "\n",
    "**RECOMENDACIÓN:ANTES DE EMPEZAR A REALIZAR MUCHAS MODIFICACIONES DEL NOTEBOOK PRIMERO REALICEN CAMBIOS PEQUEÑOS EN EL ARCHIVO EN CONJUNTO Y VERIFIQUEN SI TANTO EL ``ESTUDIANTE 1`` COMO EL ``ESTUDIANTE 2``  RECIBEN LAS ACTUALIZACIONES QUE REALIZAN CADA UNO EN EL PROYECTO PARA VERIFICAR QUE EL REMOTE ESTUVO BIEN CONFIGURADO.**\n",
    ">Les recomiendo ver los siguientes enlaces para ver distintas funciones para escribir en markdown.\n",
    ">    - [Creador de tablas online](https://www.tablesgenerator.com/markdown_tables)\n",
    ">    - [Sintáxis markdown](https://joplinapp.org/markdown/)\n",
    "\n",
    "6. Cuando ya se encuentre el proyecto conjunto con la información del ESTUDIANTE 1 y ESTUDIANTE 2, el ``ESTUDIANTE 2``  debe de realizar un `pull request` con las modificaciones realizadas a el `ESTUDIANTE 1` para que este realice un merge a la rama `master`, con las moficaciones propuestas por el `ESTUDIANTE 2`, TAL Y CÓMO SE REALIZÓ EN CLASE. (Recuerden que los pull request se generan en *Gitkraken* y se administran los comentarios o cambios propuestos por su compañero desde *Github* ver `Clase1_GitTurorial` para aclaración de dudas, donde se explica cómo crear *branch y pull request*)"
   ]
  },
  {
   "cell_type": "markdown",
   "metadata": {},
   "source": [
    "# Estudiante 1"
   ]
  },
  {
   "cell_type": "markdown",
   "metadata": {},
   "source": [
    "### **Expectativas del curso**\n",
    "En base a los comentarios de algúnos de mis compañeros, creo que en esta materia reafirmaré conocimientos ya vistos en materias pasadas donde he usado el lenguaje de python, además poder tener una mejor habilidad lógica y poder tener agilidez al programar, así como  aprender a utilizar herramientas que me ayuden a simular distintos escenarios financieros y sus impactos para poder crear expectativas o anticiparme a cambios en el mercado y así ayudar a cualquier lugar en el que me encuentre trabajando."
   ]
  },
  {
   "cell_type": "markdown",
   "metadata": {},
   "source": [
    "\n",
    "|$i$|$x$|$f(x)$|\n",
    "|------|------|------|\n",
    "|$0$ |$-1$|$0.3678$|\n",
    "|$\\color{red}{1}$|$\\color{red}{-0.5}$|$\\color{red}{0.7788}$|\n",
    "|$\\color{blue}{2}$|$\\color{blue}{0}$|$\\color{blue}{1}$|\n",
    "|$\\color{red}{3}$|$\\color{red}{0.5}$|$\\color{red}{0.7788}$|\n",
    "|$4$|$1$|$0.3678$|\n",
    "\n",
    "$$\\text{Cuadro 1: Tabla de valores de 𝑓(𝑥)}$$"
   ]
  },
  {
   "cell_type": "markdown",
   "metadata": {},
   "source": [
    "$$\\begin{equation}\n",
    "\\int_{-1}^{1} e^{-x^{2}}dx\\approx\\frac{0,5}{3}\\left [f(-1)+f(1)+4(\\color{red}{f(-0,5)+f(0,5)})+2\\color{blue}{f(0)}\\right]\n",
    "\\end{equation}$$\n",
    "$$\\begin{equation}\n",
    "\\approx \\frac{0,5}{3}[0,3678 + 0,3678 + 4 (\\color{red}{0,7788 + 0,7788}) + 2 \\cdot \\color{blue}{1})] \\approx 1,4943\n",
    "\\end{equation}$$\n",
    "\n",
    "$$\\text{ A modo de verificación, se calculará por software, el valor del área para n = 100, un valor mucho más elevado al que se utilizó anteriormente.}$$\n",
    "$\\text{Si lo calculado previamente es correcto, se esperaría que sea próximo al valor presentado a continuación para ser una buena aproximación.}$\n",
    "\n",
    "$$\\begin{align}\n",
    "\\int_{-1}^1 e^{-x^2}dx \\approx 1,4936\n",
    "\\end{align}$$"
   ]
  },
  {
   "cell_type": "code",
   "execution_count": 21,
   "metadata": {},
   "outputs": [
    {
     "name": "stdout",
     "output_type": "stream",
     "text": [
      "[[0 1 1 2 3 5 8 13 21 34]\n",
      " [55 89 144 233 377 610 987 1597 2584 4181]\n",
      " [6765 10946 17711 28657 46368 75025 121393 196418 317811 514229]\n",
      " [832040 1346269 2178309 3524578 5702887 9227465 14930352 24157817\n",
      "  39088169 63245986]\n",
      " [102334155 165580141 267914296 433494437 701408733 1134903170 1836311903\n",
      "  2971215073 4807526976 7778742049]\n",
      " [12586269025 20365011074 32951280099 53316291173 86267571272\n",
      "  139583862445 225851433717 365435296162 591286729879 956722026041]\n",
      " [1548008755920 2504730781961 4052739537881 6557470319842 10610209857723\n",
      "  17167680177565 27777890035288 44945570212853 72723460248141\n",
      "  117669030460994]\n",
      " [190392490709135 308061521170129 498454011879264 806515533049393\n",
      "  1304969544928657 2111485077978050 3416454622906707 5527939700884757\n",
      "  8944394323791464 14472334024676221]\n",
      " [23416728348467685 37889062373143906 61305790721611591 99194853094755497\n",
      "  160500643816367088 259695496911122585 420196140727489673\n",
      "  679891637638612258 1100087778366101931 1779979416004714189]\n",
      " [2880067194370816120 4660046610375530309 7540113804746346429\n",
      "  12200160415121876738 19740274219868223167 31940434634990099905\n",
      "  51680708854858323072 83621143489848422977 135301852344706746049\n",
      "  218922995834555169026]]\n"
     ]
    }
   ],
   "source": [
    "import numpy as np\n",
    "f = [0, 1]\n",
    "for i in range(2, 100):\n",
    "    f.append(f[i - 1] + f[i - 2])\n",
    "print(np.reshape(np.array(f), (10, 10)))"
   ]
  },
  {
   "cell_type": "markdown",
   "metadata": {},
   "source": [
    "## Enlace\n",
    "\n",
    "[Proyecto Conjunto](https://github.com/berlinpreciado21/ProyectoConjunto_BIPreciado_MVerea)"
   ]
  },
  {
   "cell_type": "markdown",
   "metadata": {},
   "source": [
    "## **Estudiante 2**"
   ]
  },
  {
   "cell_type": "markdown",
   "metadata": {},
   "source": [
    "### **Expectativas del curso**\n",
    "En la matera de simulación de procesos financieros espero aprender a desarrollar algoritmos complejos con la información aprendida en mi carrera, con los cuales pueda proyectar movimientos de fenómenos financieros como; volatilidades, precios de acciones y sus comportamientos a lo largo del tiempo. Estas herramientas espero poder aplicarlas a la práctica del mercado financiero actual en su día a día."
   ]
  },
  {
   "cell_type": "markdown",
   "metadata": {},
   "source": [
    "|<font face=\"sabon\">$i$</font>  |<font face=\"sabon\">$1$</font>   |<font face=\"sabon\">$2$</font>   |<font face=\"sabon\">$3$</font>   |<font face=\"sabon\">$4$</font>   |<font face=\"sabon\">$5$</font>   |<font face=\"sabon\">$6$</font>   |<font face=\"sabon\">$7$</font>   |\n",
    "|:---:|:---:|:---:|:---:|:---:|:---:|:---:|:---:|\n",
    "|<font face=\"sabon\">*Ei(V)*</font>   |<font face=\"sabon\">12</font>   |<font face=\"sabon\">10</font>   |<font face=\"sabon\">24</font>   |<font face=\"sabon\">12</font>   |-   |-   |-   |\n",
    "|<font face=\"sabon\">*ri($\\Omega$)*</font>   |<font face=\"sabon\">0.1</font>    |<font face=\"sabon\">0.5</font>    |<font face=\"sabon\">0.2</font>    |<font face=\"sabon\">0.5</font>    |-   |-   |-   |\n",
    "|<font face=\"sabon\">*Ri($\\Omega$)*</font>   |<font face=\"sabon\">25</font>    |<font face=\"sabon\">40</font>    |<font face=\"sabon\">16</font>    |<font face=\"sabon\">20</font>    |<font face=\"sabon\">9</font>    |<font face=\"sabon\">4</font>    |<font face=\"sabon\">20</font>    |    \n"
   ]
  },
  {
   "cell_type": "markdown",
   "metadata": {},
   "source": [
    "<font face=\"STCAIYUN\">$\\qquad$<font color = #1E90FF>Kemna y Vorst (1990)</font> muestran que las opciones asiáticas con media geométrica continua se pueden valuar con el mismo enfoque de las opciones *plain vanilla*; solo se deben cambiar los parámetros de volatilidad $\\sigma$ por $\\sigma$<sub>a</sub> y el costo de acarreo $b$ por $b$<sub>A</sub>.  \n",
    "    $\\qquad$De acuerdo con Kemna y Vorst, las fórmulas para valuar una opción de compra y una opción de venta son:</font>"
   ]
  },
  {
   "cell_type": "markdown",
   "metadata": {},
   "source": [
    "$\\qquad$<font face=\"STCAIYUN\">$\\begin{align}{c}\\approx S_{t} e^{(b_{A}-r)(T-t)}\\phi (d_{1}) - Ke^{-r(T-t)}\\phi (d_{2}),\n",
    "\\end{align}$</font>"
   ]
  },
  {
   "cell_type": "markdown",
   "metadata": {},
   "source": [
    "$\\qquad$<font face=\"STCAIYUN\">$\\begin{align}\n",
    "{p}\\approx Ke^{-r(T-t)}\\phi (-d_{2})-S_{t} e^{(b_{A}-r)(T-t)}\\phi (-d_{1}).\n",
    "\\end{align}$</font>"
   ]
  },
  {
   "cell_type": "markdown",
   "metadata": {},
   "source": [
    "<font face=\"STCAIYUN\">con *d1* y *d2* dados por:</font>"
   ]
  },
  {
   "cell_type": "markdown",
   "metadata": {},
   "source": [
    "$\\qquad$<font face=\"STCAIYUN\">$\\begin{align}\n",
    "d_1=\\frac{\\ln{(S_t/K)+(b_A +1/2\\sigma^2_a)(T-t)}}{\\sigma{\\sqrt{T-t}}},\n",
    "\\end{align}$</font>"
   ]
  },
  {
   "cell_type": "markdown",
   "metadata": {},
   "source": [
    "$\\qquad$<font face=\"STCAIYUN\">$\\begin{align}\n",
    "d_2=d_1-\\sigma_a\\sqrt{T-t}.\n",
    "\\end{align}$</font>"
   ]
  },
  {
   "cell_type": "markdown",
   "metadata": {},
   "source": [
    "<font face=\"STCAIYUN\">La función $\\phi$*(d)* es la función de distribución acumulada de $E$$\\sim$$N$(0,1). La volatilidad ajustada es igual a:</font>"
   ]
  },
  {
   "cell_type": "markdown",
   "metadata": {},
   "source": [
    "$\\qquad$<font face=\"STCAIYUN\">$\\begin{align}\n",
    "\\sigma_a=\\frac{\\sigma}{\\sqrt{3}},\n",
    "\\end{align}$</font>"
   ]
  },
  {
   "cell_type": "markdown",
   "metadata": {},
   "source": [
    "<font face=\"STCAIYUN\">mientras que el costo de acarreo ajustado es:</font>"
   ]
  },
  {
   "cell_type": "markdown",
   "metadata": {},
   "source": [
    "$\\qquad$<font face=\"STCAIYUN\">$\\begin{align}\n",
    "b_A=\\frac{1}{2} \\left(\\nu -\\frac{\\sigma^2}{6}\\right).\n",
    "\\end{align}$</font>"
   ]
  },
  {
   "cell_type": "markdown",
   "metadata": {},
   "source": [
    "#### Números Primos"
   ]
  },
  {
   "cell_type": "code",
   "execution_count": 3,
   "metadata": {},
   "outputs": [],
   "source": [
    "def NumerosPrimos(n):\n",
    "    numeros = [True, True] + [True] * (n-1)\n",
    "    y = 2\n",
    "    i = y\n",
    "    \n",
    "    while y**2 <= n:\n",
    "        i += y\n",
    "        while i <= n:\n",
    "            numeros[i] = False\n",
    "            i += y\n",
    "        j = y + 1\n",
    "        while j < n:\n",
    "            if numeros[j]:\n",
    "                y = j\n",
    "                break\n",
    "            j += 1\n",
    "        i = y\n",
    "    \n",
    "    return [i + 2 for i, not_crossed in enumerate(numeros[2:]) if not_crossed]"
   ]
  },
  {
   "cell_type": "code",
   "execution_count": 4,
   "metadata": {},
   "outputs": [
    {
     "data": {
      "text/plain": [
       "[2,\n",
       " 3,\n",
       " 5,\n",
       " 7,\n",
       " 11,\n",
       " 13,\n",
       " 17,\n",
       " 19,\n",
       " 23,\n",
       " 29,\n",
       " 31,\n",
       " 37,\n",
       " 41,\n",
       " 43,\n",
       " 47,\n",
       " 53,\n",
       " 59,\n",
       " 61,\n",
       " 67,\n",
       " 71,\n",
       " 73,\n",
       " 79,\n",
       " 83,\n",
       " 89,\n",
       " 97]"
      ]
     },
     "execution_count": 4,
     "metadata": {},
     "output_type": "execute_result"
    }
   ],
   "source": [
    ">>> NumerosPrimos(100)"
   ]
  },
  {
   "cell_type": "code",
   "execution_count": null,
   "metadata": {},
   "outputs": [],
   "source": []
  }
 ],
 "metadata": {
  "kernelspec": {
   "display_name": "Python 3",
   "language": "python",
   "name": "python3"
  },
  "language_info": {
   "codemirror_mode": {
    "name": "ipython",
    "version": 3
   },
   "file_extension": ".py",
   "mimetype": "text/x-python",
   "name": "python",
   "nbconvert_exporter": "python",
   "pygments_lexer": "ipython3",
   "version": "3.8.3"
  }
 },
 "nbformat": 4,
 "nbformat_minor": 4
}
